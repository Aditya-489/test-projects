{
 "cells": [
  {
   "cell_type": "code",
   "execution_count": 3,
   "id": "98daf076-182e-479a-b717-132751f1276d",
   "metadata": {},
   "outputs": [],
   "source": [
    "import pandas as pd \n",
    "import numpy as np\n",
    "import matplotlib.pyplot as plt "
   ]
  },
  {
   "cell_type": "code",
   "execution_count": 4,
   "id": "b4ffaf01-0e07-43d5-89ed-3520bf7c6c59",
   "metadata": {},
   "outputs": [],
   "source": [
    "df=pd.read_csv(r'C:\\Users\\shett\\OneDrive\\Desktop\\DataAnalysis\\imdb\\imdb_top_1000.csv')\n",
    "\n",
    "df.drop(\"Poster_Link\",axis=1,inplace=True)\n"
   ]
  },
  {
   "cell_type": "markdown",
   "id": "3629ea12-4c69-4a16-a10a-bdc84fb755ac",
   "metadata": {},
   "source": [
    "Which movie genres are most common in the top 1000?\n",
    "\n",
    "Who are the top 10 directors with the most movies on the list?\n",
    "\n",
    "Is there a correlation between a movie's rating (IMDB_Rating) and its gross earnings (Gross)?\n",
    "\n",
    "How have movie runtimes (Runtime) changed over the decades?\n",
    "\n",
    "Which actors (Star1, Star2, etc.) appear most frequently in this list?"
   ]
  },
  {
   "cell_type": "code",
   "execution_count": 30,
   "id": "4f97f822-2b53-4fca-bb93-d914731b2ae9",
   "metadata": {},
   "outputs": [],
   "source": [
    "df['Genre']=df['Genre'].apply(lambda x:sorted(g.strip() for g in x))\n",
    "indi_genres=df['Genre'].explode()"
   ]
  },
  {
   "cell_type": "code",
   "execution_count": 31,
   "id": "edf90873-b30c-42b5-a43c-d45eab7c53ed",
   "metadata": {},
   "outputs": [],
   "source": [
    "\n",
    "df['GenreCombo'] = df['Genre'].apply(lambda x: \",\".join(sorted(g.strip() for g in x)))\n",
    "combo_counts = df['GenreCombo'].value_counts()"
   ]
  },
  {
   "cell_type": "code",
   "execution_count": 32,
   "id": "3be84cba-80b6-4740-9b2d-e60995652d7c",
   "metadata": {},
   "outputs": [
    {
     "name": "stdout",
     "output_type": "stream",
     "text": [
      "most common genres individually :Genre\n",
      "Drama        724\n",
      "Comedy       233\n",
      "Crime        209\n",
      "Adventure    196\n",
      "Action       189\n",
      "Thriller     137\n",
      "Romance      125\n",
      "Biography    109\n",
      "Mystery       99\n",
      "Animation     82\n",
      "Sci-Fi        67\n",
      "Fantasy       66\n",
      "History       56\n",
      "Family        56\n",
      "War           51\n",
      "Music         35\n",
      "Horror        32\n",
      "Western       20\n",
      "Film-Noir     19\n",
      "Sport         19\n",
      "Musical       17\n",
      "Name: count, dtype: int64\n",
      "most common goruped genres :GenreCombo\n",
      "Drama                      85\n",
      "Drama,Romance              37\n",
      "Comedy,Drama               35\n",
      "Comedy,Drama,Romance       31\n",
      "Action,Crime,Drama         30\n",
      "                           ..\n",
      "Action,Adventure,Family     1\n",
      "Action,Crime,Mystery        1\n",
      "Animation,Drama,Romance     1\n",
      "Drama,War,Western           1\n",
      "Adventure,Comedy,War        1\n",
      "Name: count, Length: 201, dtype: int64\n"
     ]
    }
   ],
   "source": [
    "print(f\"most common genres individually :{indi_genres.value_counts()}\")\n",
    "print(f\"most common goruped genres :{combo_counts}\")"
   ]
  },
  {
   "cell_type": "code",
   "execution_count": 23,
   "id": "34f0df3b-9688-452a-8274-279c7201940a",
   "metadata": {},
   "outputs": [
    {
     "data": {
      "text/html": [
       "<div>\n",
       "<style scoped>\n",
       "    .dataframe tbody tr th:only-of-type {\n",
       "        vertical-align: middle;\n",
       "    }\n",
       "\n",
       "    .dataframe tbody tr th {\n",
       "        vertical-align: top;\n",
       "    }\n",
       "\n",
       "    .dataframe thead th {\n",
       "        text-align: right;\n",
       "    }\n",
       "</style>\n",
       "<table border=\"1\" class=\"dataframe\">\n",
       "  <thead>\n",
       "    <tr style=\"text-align: right;\">\n",
       "      <th></th>\n",
       "      <th>No_of_Votes</th>\n",
       "      <th>Gross</th>\n",
       "    </tr>\n",
       "  </thead>\n",
       "  <tbody>\n",
       "    <tr>\n",
       "      <th>No_of_Votes</th>\n",
       "      <td>1.000000</td>\n",
       "      <td>0.574393</td>\n",
       "    </tr>\n",
       "    <tr>\n",
       "      <th>Gross</th>\n",
       "      <td>0.574393</td>\n",
       "      <td>1.000000</td>\n",
       "    </tr>\n",
       "  </tbody>\n",
       "</table>\n",
       "</div>"
      ],
      "text/plain": [
       "             No_of_Votes     Gross\n",
       "No_of_Votes     1.000000  0.574393\n",
       "Gross           0.574393  1.000000"
      ]
     },
     "execution_count": 23,
     "metadata": {},
     "output_type": "execute_result"
    }
   ],
   "source": [
    "df['Gross']=df['Gross'].str.replace(\",\",\"\").astype(float)\n",
    "df[['No_of_Votes','Gross']].corr()\n"
   ]
  },
  {
   "cell_type": "code",
   "execution_count": 38,
   "id": "9055887c-933b-4589-855f-87748801dd50",
   "metadata": {},
   "outputs": [
    {
     "name": "stdout",
     "output_type": "stream",
     "text": [
      "GenreCombo\n",
      "Action,Adventure,Sci-Fi       43907394\n",
      "Adventure,Animation,Comedy    29682966\n",
      "Crime,Drama,Thriller          29308209\n",
      "Action,Adventure,Drama        27887577\n",
      "Action,Crime,Drama            25562391\n",
      "                                ...   \n",
      "Comedy,Crime,Mystery             79926\n",
      "Drama,Musical                    60546\n",
      "Drama,Fantasy                    59364\n",
      "Animation,Sci-Fi                 50458\n",
      "Thriller                         27733\n",
      "Name: No_of_Votes, Length: 201, dtype: int64\n"
     ]
    }
   ],
   "source": [
    "nx=df.explode('Genre')\n",
    "genre_votes = nx.groupby('GenreCombo')['No_of_Votes'].sum().sort_values(ascending=False)\n",
    "print(genre_votes)\n"
   ]
  },
  {
   "cell_type": "code",
   "execution_count": 40,
   "id": "2c01982a-423b-4217-90fa-2368bcfd10ec",
   "metadata": {},
   "outputs": [
    {
     "data": {
      "text/html": [
       "<div>\n",
       "<style scoped>\n",
       "    .dataframe tbody tr th:only-of-type {\n",
       "        vertical-align: middle;\n",
       "    }\n",
       "\n",
       "    .dataframe tbody tr th {\n",
       "        vertical-align: top;\n",
       "    }\n",
       "\n",
       "    .dataframe thead th {\n",
       "        text-align: right;\n",
       "    }\n",
       "</style>\n",
       "<table border=\"1\" class=\"dataframe\">\n",
       "  <thead>\n",
       "    <tr style=\"text-align: right;\">\n",
       "      <th></th>\n",
       "      <th>IMDB_Rating</th>\n",
       "      <th>Gross</th>\n",
       "    </tr>\n",
       "  </thead>\n",
       "  <tbody>\n",
       "    <tr>\n",
       "      <th>IMDB_Rating</th>\n",
       "      <td>1.000000</td>\n",
       "      <td>-0.049691</td>\n",
       "    </tr>\n",
       "    <tr>\n",
       "      <th>Gross</th>\n",
       "      <td>-0.049691</td>\n",
       "      <td>1.000000</td>\n",
       "    </tr>\n",
       "  </tbody>\n",
       "</table>\n",
       "</div>"
      ],
      "text/plain": [
       "             IMDB_Rating     Gross\n",
       "IMDB_Rating     1.000000 -0.049691\n",
       "Gross          -0.049691  1.000000"
      ]
     },
     "execution_count": 40,
     "metadata": {},
     "output_type": "execute_result"
    }
   ],
   "source": [
    "df[['IMDB_Rating','Gross']].corr(method='spearman')\n"
   ]
  },
  {
   "cell_type": "code",
   "execution_count": 41,
   "id": "48e8bc24-4774-431f-bbde-62585cb2fc5f",
   "metadata": {},
   "outputs": [
    {
     "data": {
      "text/html": [
       "<div>\n",
       "<style scoped>\n",
       "    .dataframe tbody tr th:only-of-type {\n",
       "        vertical-align: middle;\n",
       "    }\n",
       "\n",
       "    .dataframe tbody tr th {\n",
       "        vertical-align: top;\n",
       "    }\n",
       "\n",
       "    .dataframe thead th {\n",
       "        text-align: right;\n",
       "    }\n",
       "</style>\n",
       "<table border=\"1\" class=\"dataframe\">\n",
       "  <thead>\n",
       "    <tr style=\"text-align: right;\">\n",
       "      <th></th>\n",
       "      <th>IMDB_Rating</th>\n",
       "      <th>Gross</th>\n",
       "    </tr>\n",
       "  </thead>\n",
       "  <tbody>\n",
       "    <tr>\n",
       "      <th>IMDB_Rating</th>\n",
       "      <td>1.000000</td>\n",
       "      <td>0.095923</td>\n",
       "    </tr>\n",
       "    <tr>\n",
       "      <th>Gross</th>\n",
       "      <td>0.095923</td>\n",
       "      <td>1.000000</td>\n",
       "    </tr>\n",
       "  </tbody>\n",
       "</table>\n",
       "</div>"
      ],
      "text/plain": [
       "             IMDB_Rating     Gross\n",
       "IMDB_Rating     1.000000  0.095923\n",
       "Gross           0.095923  1.000000"
      ]
     },
     "execution_count": 41,
     "metadata": {},
     "output_type": "execute_result"
    }
   ],
   "source": [
    "df[['IMDB_Rating','Gross']].corr()\n"
   ]
  },
  {
   "cell_type": "code",
   "execution_count": 6,
   "id": "9aae0d39-eb1b-487f-ad7b-f1ee440b31be",
   "metadata": {},
   "outputs": [
    {
     "data": {
      "text/plain": [
       "Director\n",
       "Alfred Hitchcock     14\n",
       "Steven Spielberg     13\n",
       "Hayao Miyazaki       11\n",
       "Martin Scorsese      10\n",
       "Akira Kurosawa       10\n",
       "Stanley Kubrick       9\n",
       "Woody Allen           9\n",
       "Billy Wilder          9\n",
       "Quentin Tarantino     8\n",
       "Christopher Nolan     8\n",
       "Name: count, dtype: int64"
      ]
     },
     "execution_count": 6,
     "metadata": {},
     "output_type": "execute_result"
    }
   ],
   "source": [
    " df['Director'].value_counts().head(10)"
   ]
  },
  {
   "cell_type": "code",
   "execution_count": 8,
   "id": "1f4d4182-7136-4536-9d2d-d1f0126ecaf9",
   "metadata": {},
   "outputs": [
    {
     "data": {
      "text/plain": [
       "Star2\n",
       "Emma Watson     7\n",
       "Matt Damon      5\n",
       "Ed Harris       4\n",
       "Kate Winslet    4\n",
       "Brad Pitt       4\n",
       "Julie Delpy     4\n",
       "Ian McKellen    4\n",
       "Chris Evans     4\n",
       "Diane Keaton    4\n",
       "Meryl Streep    4\n",
       "Name: count, dtype: int64"
      ]
     },
     "execution_count": 8,
     "metadata": {},
     "output_type": "execute_result"
    }
   ],
   "source": [
    " df['Star2'].value_counts().head(10)"
   ]
  },
  {
   "cell_type": "code",
   "execution_count": 11,
   "id": "c4c1f389-377a-49ac-abb8-675c7b203752",
   "metadata": {},
   "outputs": [
    {
     "data": {
      "text/plain": [
       "Star1\n",
       "Tom Hanks            12\n",
       "Robert De Niro       11\n",
       "Clint Eastwood       10\n",
       "Al Pacino            10\n",
       "Leonardo DiCaprio     9\n",
       "Humphrey Bogart       9\n",
       "Johnny Depp           8\n",
       "Christian Bale        8\n",
       "James Stewart         8\n",
       "Toshirô Mifune        7\n",
       "Name: count, dtype: int64"
      ]
     },
     "execution_count": 11,
     "metadata": {},
     "output_type": "execute_result"
    }
   ],
   "source": [
    " df['Star1'].value_counts().head(10)"
   ]
  },
  {
   "cell_type": "code",
   "execution_count": null,
   "id": "e3a3a000-cb83-4d99-86dd-aae37dedabbc",
   "metadata": {},
   "outputs": [],
   "source": []
  }
 ],
 "metadata": {
  "kernelspec": {
   "display_name": "Python 3 (ipykernel)",
   "language": "python",
   "name": "python3"
  },
  "language_info": {
   "codemirror_mode": {
    "name": "ipython",
    "version": 3
   },
   "file_extension": ".py",
   "mimetype": "text/x-python",
   "name": "python",
   "nbconvert_exporter": "python",
   "pygments_lexer": "ipython3",
   "version": "3.13.7"
  }
 },
 "nbformat": 4,
 "nbformat_minor": 5
}
